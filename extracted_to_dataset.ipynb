{
 "cells": [
  {
   "cell_type": "code",
   "execution_count": null,
   "metadata": {},
   "outputs": [],
   "source": [
    "import os\n",
    "import time\n",
    "import numpy as np\n",
    "from glob import glob\n",
    "import json\n",
    "import random\n",
    "import cv2\n",
    "#os.environ['TF_FORCE_GPU_ALLOW_GROWTH'] = 'true'\n",
    "#os.environ['TF_CPP_MIN_LOG_LEVEL'] = '3'\n",
    "import tensorflow as tf\n",
    "policy = tf.keras.mixed_precision.Policy(\"mixed_float16\")\n",
    "tf.keras.mixed_precision.set_global_policy(policy)\n",
    "strategy = tf.distribute.MultiWorkerMirroredStrategy()\n",
    "from tensorflow import keras\n",
    "from tensorflow.keras import layers\n",
    "from keras_cv_attention_models import efficientnet"
   ]
  },
  {
   "cell_type": "code",
   "execution_count": null,
   "metadata": {},
   "outputs": [],
   "source": [
    "backbone_file = 'efficientnetv2-s-21k-ft1k.h5'\n",
    "if not os.path.exists(backbone_file):\n",
    "    print('downloading backbone')\n",
    "    os.system('wget https://github.com/leondgarse/keras_efficientnet_v2/releases/download/effnetv2_pretrained/' + backbone_file + ' -O ' + backbone_file)\n",
    "model = efficientnet.EfficientNetV2S(pretrained=backbone_file,dropout=1e-6, num_classes=0, include_preprocessing = True)\n",
    "model.summary()"
   ]
  },
  {
   "cell_type": "code",
   "execution_count": null,
   "metadata": {},
   "outputs": [],
   "source": [
    "batch_size = 32\n",
    "image_size = (384, 384)\n",
    "image_batch = []\n",
    "image_paths = []\n",
    "output_path = './dataset'\n",
    "\n",
    "source_path = './extracted'\n",
    "images = glob(f'{source_path}/*.jpg')\n",
    "\n",
    "crop = False\n",
    "\n",
    "for i, image_path in enumerate(images):\n",
    "    if not os.path.exists(os.path.join(output_path, os.path.basename(image_path).replace('.jpg', '.txt'))):\n",
    "        # copy from source to output\n",
    "        #print(f'copying {image_path.replace(\".jpg\", \".txt\")} to {os.path.join(output_path, os.path.basename(image_path).replace(\".jpg\", \".txt\"))}')\n",
    "        os.system(f'cp {image_path.replace(\".jpg\", \".txt\")} {os.path.join(output_path, os.path.basename(image_path).replace(\".jpg\", \".txt\"))}')\n",
    "    if os.path.exists(os.path.join(output_path, os.path.basename(image_path).replace('.jpg', '.npy'))):\n",
    "        continue\n",
    "    image = cv2.imread(image_path)\n",
    "    if crop:\n",
    "        image_width = image.shape[1]\n",
    "        image_height = image.shape[0]\n",
    "        image = image[image_height // 2: image_height, image_width // 4: image_width - image_width // 4]\n",
    "    image = cv2.resize(image, image_size)\n",
    "    image = cv2.cvtColor(image, cv2.COLOR_BGR2RGB)\n",
    "    image = image.astype(np.float32)\n",
    "    image_batch.append(image)\n",
    "    image_paths.append(image_path)\n",
    "    if len(image_batch) == batch_size or i == len(images) - 1:\n",
    "        image_batch = np.array(image_batch)\n",
    "        predictions = model.predict(image_batch)\n",
    "        for j, image_path in enumerate(image_paths):\n",
    "            #print(f'{image_path} - {predictions[j][0][0]}')\n",
    "            np.save(os.path.join(output_path, os.path.basename(image_path).replace('.jpg', '.npy')), predictions[j])\n",
    "        image_batch = []\n",
    "        image_paths = []\n",
    "        "
   ]
  },
  {
   "cell_type": "code",
   "execution_count": null,
   "metadata": {},
   "outputs": [],
   "source": []
  },
  {
   "cell_type": "code",
   "execution_count": null,
   "metadata": {},
   "outputs": [],
   "source": [
    "epoch = 0\n",
    "lr = 1e-3"
   ]
  },
  {
   "cell_type": "code",
   "execution_count": null,
   "metadata": {},
   "outputs": [],
   "source": []
  }
 ],
 "metadata": {
  "language_info": {
   "name": "python"
  }
 },
 "nbformat": 4,
 "nbformat_minor": 2
}
